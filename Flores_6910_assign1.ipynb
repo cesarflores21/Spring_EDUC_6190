{
 "cells": [
  {
   "cell_type": "markdown",
   "id": "8f0db8f8",
   "metadata": {
    "id": "8f0db8f8"
   },
   "source": [
    "# Assignment 1. Numerical data (5% Credit)"
   ]
  },
  {
   "cell_type": "markdown",
   "id": "f168fc9c",
   "metadata": {
    "id": "f168fc9c"
   },
   "source": [
    "### In this assignment, you will use log data collected through AutoTutor ARC (Adult Reading Comprehension), an Intelligent Tutoring System (ITS). The study focuses on how the conversational agent's language style impacts the quality of summaries written by participants. Participants were assigned to one of three conditions: (1) formal, where both teacher and peer agents spoke formally, (2) informal, where both agents spoke informally, and (3) mixed, where the teacher agent spoke formally while the peer agent spoke informally.\n",
    "\n",
    "### Participants first took a pretest covering summary writing, reading, demographic information, and other student information. Then, they received a 3-hour intervention guided by conversational agents. Finally, they completed a posttest on summary writing and provided feedback.\n",
    "\n",
    "### Dataset\n",
    "#### 1) \"Summary data - Lesson2-3-9-10.xlsx\": Lessons 2 and 3 were designated for the pretest, while Lessons 9 and 10 were for the posttest (Variable name is \"LessonID\").\n",
    "\n",
    "## Note.\n",
    "## 1. To receive full credits, submit the ipynb file with all the output.\n",
    "## 2. Save this file as a new copy and rename it in the file name: lastName_6910_assign1.ipynb.\n",
    "## 3. You are welcome to use ChatGPT or other resources for Python code; however, please verify the accuracy of the information obtained from these resources."
   ]
  },
  {
   "cell_type": "markdown",
   "id": "8c25c711",
   "metadata": {
    "id": "8c25c711"
   },
   "source": [
    "### Install and import the Package\n",
    "#### Install the packages if you haven't, using \"!pip install package\""
   ]
  },
  {
   "cell_type": "code",
   "execution_count": 1,
   "id": "1b9ca007",
   "metadata": {
    "id": "1b9ca007"
   },
   "outputs": [],
   "source": [
    "# !pip install pandas"
   ]
  },
  {
   "cell_type": "markdown",
   "id": "55739f8a",
   "metadata": {
    "id": "55739f8a"
   },
   "source": [
    "#### Feel free to edit the code. The provided code snippets serve as a reference for how to annotate and comment on your work."
   ]
  },
  {
   "cell_type": "code",
   "execution_count": 2,
   "id": "b7165ee8",
   "metadata": {
    "id": "b7165ee8"
   },
   "outputs": [],
   "source": [
    "import pandas as pd\n",
    "from matplotlib import pyplot as plt\n",
    "import numpy as np\n",
    "import os"
   ]
  },
  {
   "cell_type": "markdown",
   "id": "a2719bbd",
   "metadata": {
    "id": "a2719bbd"
   },
   "source": [
    "## Q1. (1% credit)\n",
    "### Participants were given the opportunity for multiple attempts during the test (\"Summary data - Lesson2-3-9-10.xlsx\"). Extract the data from the first attempt (Variable name: \"LessonAttempt\" with value \"1\"). In cases where participants couldn't complete the first attempt due to technical issues, use the data from their second attempt (\"LessonAttempt\" with value \"2\"), and so on.\n",
    "\n",
    ">### Create a new variable named \"Test\" with two distinct categories: \"pretest\" for lessons 2 or 3, and \"posttest\" for lessons 9 or 10 based on the lesson information provided from the variable \"LessonID.\""
   ]
  },
  {
   "cell_type": "code",
   "execution_count": 3,
   "id": "gBzVev3Toy4n",
   "metadata": {
    "id": "gBzVev3Toy4n"
   },
   "outputs": [],
   "source": [
    "os.getcwd()\n",
    "pd.set_option('display.max_columns', None)"
   ]
  },
  {
   "cell_type": "code",
   "execution_count": 4,
   "id": "6iySEGkEp3_A",
   "metadata": {
    "colab": {
     "base_uri": "https://localhost:8080/",
     "height": 90
    },
    "id": "6iySEGkEp3_A",
    "outputId": "8b5d343a-28a1-4823-ea45-e7f7dd51d9a0"
   },
   "outputs": [
    {
     "data": {
      "text/plain": [
       "'# upload data\\nfrom google.colab import files\\nuploaded = files.upload()'"
      ]
     },
     "execution_count": 4,
     "metadata": {},
     "output_type": "execute_result"
    }
   ],
   "source": [
    "\"\"\"# upload data\n",
    "from google.colab import files\n",
    "uploaded = files.upload()\"\"\""
   ]
  },
  {
   "cell_type": "code",
   "execution_count": 5,
   "id": "8df5ec46",
   "metadata": {
    "id": "8df5ec46"
   },
   "outputs": [],
   "source": [
    "# Read data from Sheet 1 of the Excel file into a DataFrame\n",
    "summary_log_data = pd.read_excel('Summary data - Lesson2-3-9-10.xlsx', sheet_name='Sheet1')"
   ]
  },
  {
   "cell_type": "code",
   "execution_count": 6,
   "id": "on_-RcNGgYBI",
   "metadata": {
    "id": "on_-RcNGgYBI"
   },
   "outputs": [],
   "source": [
    "# 1.1 Extract the log data from the first attempt.\n",
    "# Hint: If there is missing data in the first attempt, replace the missing value with the second attempt.\n",
    "# If that value in the second attempt is also missing, replace the missing value in the third attempt, and so on.\n",
    "\n",
    "def fill_na_attempts(df, first_attempt_cols):\n",
    "    # Calculate the total number of attempts possible based on the number of columns and the pattern repeating\n",
    "    total_columns = len(df.columns)\n",
    "    columns_per_attempt = len(first_attempt_cols)\n",
    "    total_attempts = total_columns // columns_per_attempt\n",
    "\n",
    "    # Iterate through the dataset, attempting to fill missing data from subsequent attempts\n",
    "    for attempt in range(1, total_attempts):  # Start from the second attempt\n",
    "        # Break the loop if there are no more missing values in the first attempt columns\n",
    "        if df[first_attempt_cols].isnull().sum().sum() == 0:\n",
    "            break\n",
    "        \n",
    "        # For each column in the first attempt, try to fill missing values from the current attempt\n",
    "        for col in first_attempt_cols:\n",
    "            # Calculate the index for the current attempt's corresponding column\n",
    "            current_attempt_col_index = df.columns.get_loc(col) + (columns_per_attempt * attempt)\n",
    "            if current_attempt_col_index < total_columns:  # Check if the column index is within bounds\n",
    "                current_attempt_col = df.columns[current_attempt_col_index]\n",
    "                # Fill missing values in the first attempt column with values from the current attempt column\n",
    "                df[col] = df.apply(lambda x: x[current_attempt_col] if pd.isnull(x[col]) else x[col], axis=1)\n",
    "\n",
    "    return df"
   ]
  },
  {
   "cell_type": "code",
   "execution_count": 7,
   "id": "f437d397",
   "metadata": {},
   "outputs": [],
   "source": [
    "first_attempt_columns = summary_log_data.iloc[:,4:25].columns"
   ]
  },
  {
   "cell_type": "code",
   "execution_count": 8,
   "id": "4921cb39",
   "metadata": {},
   "outputs": [],
   "source": [
    "df_all = fill_na_attempts(summary_log_data, first_attempt_columns)"
   ]
  },
  {
   "cell_type": "code",
   "execution_count": 9,
   "id": "95b0bebe",
   "metadata": {},
   "outputs": [],
   "source": [
    "df = df_all.iloc[:,:25]"
   ]
  },
  {
   "cell_type": "code",
   "execution_count": 10,
   "id": "fxNSVSnVS3kF",
   "metadata": {
    "id": "fxNSVSnVS3kF"
   },
   "outputs": [],
   "source": [
    "# 1.2 Create the \"Test\" variable.\n",
    "\n",
    "def test_func(x):\n",
    "    if x== 'lesson2' or x== 'lesson3':\n",
    "        return 'pretest'\n",
    "    elif x== 'lesson9' or x== 'lesson10':\n",
    "        return 'posttest'\n",
    "    else:\n",
    "        return np.nan"
   ]
  },
  {
   "cell_type": "code",
   "execution_count": 11,
   "id": "abae9731",
   "metadata": {},
   "outputs": [],
   "source": [
    "df['Test'] = df['LessonID'].apply(test_func)"
   ]
  },
  {
   "cell_type": "markdown",
   "id": "f5f5f2f2",
   "metadata": {
    "id": "f5f5f2f2"
   },
   "source": [
    "## Q2. (1% credit)\n",
    "\n",
    ">### The variable \"Q5Duration\" is the time (seconds) that students spent writing the summary. You can rename it as \"WritingTime.\" Visualize WritingTime. According to the visualization, is it skewed? Does it contain outliers? (Hint: If a value is more or less than 3 standard deviations away from the mean, it is an outlier.)"
   ]
  },
  {
   "cell_type": "code",
   "execution_count": 12,
   "id": "910ff972",
   "metadata": {},
   "outputs": [],
   "source": [
    "df = df.rename(columns={\"Q5Duration\" : \"WritingTime\"})"
   ]
  },
  {
   "cell_type": "code",
   "execution_count": 13,
   "id": "7b409380",
   "metadata": {},
   "outputs": [],
   "source": [
    "std = df[\"WritingTime\"].std()\n",
    "std_3 = std * 3"
   ]
  },
  {
   "cell_type": "code",
   "execution_count": 14,
   "id": "QbRk97TKEele",
   "metadata": {
    "id": "QbRk97TKEele"
   },
   "outputs": [
    {
     "data": {
      "text/plain": [
       "Text(0, 0.5, 'Frequency')"
      ]
     },
     "execution_count": 14,
     "metadata": {},
     "output_type": "execute_result"
    },
    {
     "data": {
      "image/png": "[encoded data removed]",
      "text/plain": [
       "<Figure size 432x288 with 1 Axes>"
      ]
     },
     "metadata": {
      "needs_background": "light"
     },
     "output_type": "display_data"
    }
   ],
   "source": [
    "# 2.1 Visualization\n",
    "# Plot histogram\n",
    "plt.hist(df['WritingTime'], edgecolor='black')\n",
    "\n",
    "# Adding outlier line\n",
    "plt.axvline(x = std_3, color='red')\n",
    "\n",
    "# Adding labels\n",
    "plt.xlabel('WritingTime')\n",
    "plt.ylabel('Frequency')"
   ]
  },
  {
   "cell_type": "markdown",
   "id": "-B8ssOiff-tR",
   "metadata": {
    "id": "-B8ssOiff-tR"
   },
   "source": [
    "### 2.2 According to the visualization, is it skewed? (You needn't calculate the skewness.)\n",
    "### Your answer: *Yes, according to the visualization its skewed*\n",
    "\n",
    "\n"
   ]
  },
  {
   "cell_type": "markdown",
   "id": "d93d80dd",
   "metadata": {
    "id": "d93d80dd"
   },
   "source": [
    "## Q3. (1% credit)\n",
    ">### Log transformation is effective for handling skewed data. Transform this variable by applying a log transformation (with a base of e or 10).\n",
    ">### Visualize the transformed variables that you created. Does log transformation address the issue of skewness?\n"
   ]
  },
  {
   "cell_type": "code",
   "execution_count": 15,
   "id": "CJDH1d8sqCyR",
   "metadata": {
    "id": "CJDH1d8sqCyR"
   },
   "outputs": [],
   "source": [
    "# 3.1 Log transformation: Name it \"WritingTime_log\"\n",
    "df['WritingTime_log'] = df['WritingTime'].apply(np.log10)"
   ]
  },
  {
   "cell_type": "code",
   "execution_count": null,
   "id": "bc2c410e",
   "metadata": {},
   "outputs": [],
   "source": []
  },
  {
   "cell_type": "code",
   "execution_count": 16,
   "id": "61a6de9b",
   "metadata": {},
   "outputs": [
    {
     "data": {
      "text/plain": [
       "Text(0, 0.5, 'Frequency')"
      ]
     },
     "execution_count": 16,
     "metadata": {},
     "output_type": "execute_result"
    },
    {
     "data": {
      "image/png": "[encoded data removed]",
      "text/plain": [
       "<Figure size 432x288 with 1 Axes>"
      ]
     },
     "metadata": {
      "needs_background": "light"
     },
     "output_type": "display_data"
    }
   ],
   "source": [
    "# 3.2 Visualize the transformed WritingTime\n",
    "# Plot histogram\n",
    "plt.hist(df['WritingTime_log'], edgecolor='black')\n",
    "\n",
    "# Adding labels\n",
    "plt.xlabel('WritingTime_log')\n",
    "plt.ylabel('Frequency')"
   ]
  },
  {
   "cell_type": "markdown",
   "id": "NBTUlLn7fwT5",
   "metadata": {
    "id": "NBTUlLn7fwT5"
   },
   "source": [
    "### 3.3 Does log transformation address the issue of skewness?\n",
    "### Your answer: *Log transformation has helped with skewness*"
   ]
  },
  {
   "cell_type": "markdown",
   "id": "KTArf9oqAz-D",
   "metadata": {
    "id": "KTArf9oqAz-D"
   },
   "source": [
    "## Q4. (1% credit)\n",
    "\n",
    "### Instead of log transformation, normalize the writing time using min-max scaling.\n",
    "### Then visualize it.\n",
    "### Which method is better to handle the skewness, log-transformed writing time or normalized writing time?"
   ]
  },
  {
   "cell_type": "code",
   "execution_count": 17,
   "id": "6FyTsrCMrPS4",
   "metadata": {
    "id": "6FyTsrCMrPS4"
   },
   "outputs": [],
   "source": [
    "# 4.1 Generate min-max scaling: Name it WritingTime_scale\n",
    "\n",
    "df['WritingTime_scale']= (df['WritingTime'] - df['WritingTime'].min()) / (df['WritingTime'].max() - df['WritingTime'].min()) \n"
   ]
  },
  {
   "cell_type": "code",
   "execution_count": 18,
   "id": "hLFB4RpPbWWv",
   "metadata": {
    "id": "hLFB4RpPbWWv"
   },
   "outputs": [
    {
     "data": {
      "text/plain": [
       "Text(0, 0.5, 'Frequency')"
      ]
     },
     "execution_count": 18,
     "metadata": {},
     "output_type": "execute_result"
    },
    {
     "data": {
      "image/png": "[encoded data removed]",
      "text/plain": [
       "<Figure size 432x288 with 1 Axes>"
      ]
     },
     "metadata": {
      "needs_background": "light"
     },
     "output_type": "display_data"
    }
   ],
   "source": [
    "# 4.2 Visualize scaled WritingTime\n",
    "\n",
    "# Plot histogram\n",
    "plt.hist(df['WritingTime_scale'], edgecolor='black')\n",
    "\n",
    "# Adding labels\n",
    "plt.xlabel('WritingTime_scale')\n",
    "plt.ylabel('Frequency')"
   ]
  },
  {
   "cell_type": "markdown",
   "id": "SYKTTauqfEue",
   "metadata": {
    "id": "SYKTTauqfEue"
   },
   "source": [
    "### 4.3 Which method is better to handle the skewness, log-transformed or normalized?\n",
    "\n",
    "### Your Answer: *log-transformed*\n",
    "\n"
   ]
  },
  {
   "cell_type": "markdown",
   "id": "fd667103",
   "metadata": {
    "id": "fd667103"
   },
   "source": [
    "## Q5 (1% credit)\n",
    "### Calculate the mean and standard deviation of WritingTime_log and WritingTime_scale that you created for WritingTime on pre-test and post-test.\n",
    "\n",
    "### Hint: remember to remove duplicate or empty cells if it applies."
   ]
  },
  {
   "cell_type": "code",
   "execution_count": 19,
   "id": "34a5c261",
   "metadata": {
    "id": "34a5c261"
   },
   "outputs": [
    {
     "name": "stdout",
     "output_type": "stream",
     "text": [
      "Duplicate rows total: 0\n",
      "Duplicate rows total based on UserId and LessonID: 0\n"
     ]
    }
   ],
   "source": [
    "# Check duplicates\n",
    "\n",
    "# Check duplicates\n",
    "print(\"Duplicate rows total: \" + str(df.duplicated().sum()))\n",
    "print(\"Duplicate rows total based on UserId and LessonID: \"+ str(df.duplicated(['UserID', 'LessonID']).sum()))"
   ]
  },
  {
   "cell_type": "code",
   "execution_count": 20,
   "id": "Cc_4UwJfcYTV",
   "metadata": {
    "id": "Cc_4UwJfcYTV"
   },
   "outputs": [
    {
     "data": {
      "text/plain": [
       "RecordID              0\n",
       "ClassID               0\n",
       "UserID                0\n",
       "LessonID              0\n",
       "LessonAttempt         0\n",
       "TotalTime             0\n",
       "XML                   0\n",
       "Q1Data                0\n",
       "Q2Data                0\n",
       "Q3Data                0\n",
       "Q4Data                0\n",
       "Q5Data               17\n",
       "Q6Data               18\n",
       "Q7Data               18\n",
       "Q8Data               18\n",
       "Q9Data               18\n",
       "Q1Duration            0\n",
       "Q2Duration            0\n",
       "Q3Duration            0\n",
       "Q4Duration            0\n",
       "WritingTime          17\n",
       "Q6Duration           18\n",
       "Q7Duration           18\n",
       "Q8Duration           18\n",
       "Q9Duration           18\n",
       "Test                  0\n",
       "WritingTime_log      17\n",
       "WritingTime_scale    17\n",
       "dtype: int64"
      ]
     },
     "execution_count": 20,
     "metadata": {},
     "output_type": "execute_result"
    }
   ],
   "source": [
    "# Check missing values\n",
    "\n",
    "df.isna().sum()"
   ]
  },
  {
   "cell_type": "code",
   "execution_count": 21,
   "id": "cae0eeb2",
   "metadata": {
    "id": "hbsqPVsDFKrr"
   },
   "outputs": [],
   "source": [
    "df = df.dropna()"
   ]
  },
  {
   "cell_type": "code",
   "execution_count": 22,
   "id": "363598c4",
   "metadata": {},
   "outputs": [
    {
     "data": {
      "text/plain": [
       "RecordID             0\n",
       "ClassID              0\n",
       "UserID               0\n",
       "LessonID             0\n",
       "LessonAttempt        0\n",
       "TotalTime            0\n",
       "XML                  0\n",
       "Q1Data               0\n",
       "Q2Data               0\n",
       "Q3Data               0\n",
       "Q4Data               0\n",
       "Q5Data               0\n",
       "Q6Data               0\n",
       "Q7Data               0\n",
       "Q8Data               0\n",
       "Q9Data               0\n",
       "Q1Duration           0\n",
       "Q2Duration           0\n",
       "Q3Duration           0\n",
       "Q4Duration           0\n",
       "WritingTime          0\n",
       "Q6Duration           0\n",
       "Q7Duration           0\n",
       "Q8Duration           0\n",
       "Q9Duration           0\n",
       "Test                 0\n",
       "WritingTime_log      0\n",
       "WritingTime_scale    0\n",
       "dtype: int64"
      ]
     },
     "execution_count": 22,
     "metadata": {},
     "output_type": "execute_result"
    }
   ],
   "source": [
    "df.isna().sum()"
   ]
  },
  {
   "cell_type": "code",
   "execution_count": 23,
   "id": "qoJIwO3Cca5e",
   "metadata": {
    "id": "qoJIwO3Cca5e"
   },
   "outputs": [
    {
     "name": "stdout",
     "output_type": "stream",
     "text": [
      "pretest log mean: 2.590890800130781\n",
      "pretest scale mean: 0.08005408057111377\n",
      "pretest log SD: 0.391990717329245\n",
      "pretest scale SD: 0.09516440506783105\n",
      "----------\n",
      "posttest log mean: 2.6034648540796392\n",
      "posttest scale mean: 0.08196541862169215\n",
      "posttest log SD: 0.3902371831213467\n",
      "posttest scale SD: 0.08189920151113299\n"
     ]
    }
   ],
   "source": [
    "# Mean and Standard deviation\n",
    "\n",
    "## mean and Standard deviation pretest\n",
    "print(\"pretest log mean: \" + str(df['WritingTime_log'][df['Test'] == 'pretest'].mean()))\n",
    "print(\"pretest scale mean: \" + str(df['WritingTime_scale'][df['Test'] == 'pretest'].mean()))\n",
    "\n",
    "print(\"pretest log SD: \" + str(df['WritingTime_log'][df['Test'] == 'pretest'].std()))\n",
    "print(\"pretest scale SD: \" + str(df['WritingTime_scale'][df['Test'] == 'pretest'].std()))\n",
    "\n",
    "print('----------')\n",
    "## mean and Standard deviation posttest\n",
    "print(\"posttest log mean: \" + str(df['WritingTime_log'][df['Test'] == 'posttest'].mean()))\n",
    "print(\"posttest scale mean: \" + str(df['WritingTime_scale'][df['Test'] == 'posttest'].mean()))\n",
    "\n",
    "print(\"posttest log SD: \" + str(df['WritingTime_log'][df['Test'] == 'posttest'].std()))\n",
    "print(\"posttest scale SD: \" + str(df['WritingTime_scale'][df['Test'] == 'posttest'].std()))"
   ]
  },
  {
   "cell_type": "markdown",
   "id": "5QX5fO98cs_x",
   "metadata": {
    "id": "5QX5fO98cs_x"
   },
   "source": [
    "Recommended but not required: create the z-score and l2 normalization as well as the square root and Box-Cox transformation for WritingTime. Visualize these two normalized and two transformed WritingTime. Among all the six normalized and transformed WritingTime, which one would like to use to predict the quality of writing? And why?"
   ]
  },
  {
   "cell_type": "code",
   "execution_count": 24,
   "id": "lZ4gGZpgcoP8",
   "metadata": {
    "id": "lZ4gGZpgcoP8"
   },
   "outputs": [],
   "source": [
    "# z-score normalization\n"
   ]
  },
  {
   "cell_type": "code",
   "execution_count": 25,
   "id": "Tq83I9pYeKHO",
   "metadata": {
    "id": "Tq83I9pYeKHO"
   },
   "outputs": [],
   "source": [
    "# l2 normalization\n"
   ]
  },
  {
   "cell_type": "code",
   "execution_count": 26,
   "id": "wr7zlevAeMvr",
   "metadata": {
    "id": "wr7zlevAeMvr"
   },
   "outputs": [],
   "source": [
    "# square root transformation\n"
   ]
  },
  {
   "cell_type": "code",
   "execution_count": 27,
   "id": "AIFLomZ6eQsp",
   "metadata": {
    "id": "AIFLomZ6eQsp"
   },
   "outputs": [],
   "source": [
    "# Box-Cox transformation\n"
   ]
  },
  {
   "cell_type": "code",
   "execution_count": 28,
   "id": "OAI-zsr6eWtS",
   "metadata": {
    "id": "OAI-zsr6eWtS"
   },
   "outputs": [],
   "source": [
    "# Visualization\n"
   ]
  },
  {
   "cell_type": "markdown",
   "id": "TdohN-TQellF",
   "metadata": {
    "id": "TdohN-TQellF"
   },
   "source": [
    "### Among all the six normalized and transformed WritingTime, which one would like to use to predict the quality of writing? And why?\n",
    "\n",
    "### Your Answer:\n",
    "\n",
    "\n"
   ]
  },
  {
   "cell_type": "markdown",
   "id": "22ff93b5",
   "metadata": {
    "id": "22ff93b5"
   },
   "source": [
    "## Save the dataset for future assignments."
   ]
  },
  {
   "cell_type": "code",
   "execution_count": 29,
   "id": "ae2d6f9b",
   "metadata": {
    "id": "ae2d6f9b"
   },
   "outputs": [],
   "source": [
    "# Save the dataset as \"Assign1_summary_log.csv\" for the future use.\n",
    "\n",
    "# df.to_csv(\"Assign1_summary_log.csv\")"
   ]
  },
  {
   "cell_type": "code",
   "execution_count": null,
   "id": "6b6521c2",
   "metadata": {},
   "outputs": [],
   "source": []
  }
 ],
 "metadata": {
  "colab": {
   "provenance": []
  },
  "kernelspec": {
   "display_name": "Python 3 (ipykernel)",
   "language": "python",
   "name": "python3"
  },
  "language_info": {
   "codemirror_mode": {
    "name": "ipython",
    "version": 3
   },
   "file_extension": ".py",
   "mimetype": "text/x-python",
   "name": "python",
   "nbconvert_exporter": "python",
   "pygments_lexer": "ipython3",
   "version": "3.9.7"
  }
 },
 "nbformat": 4,
 "nbformat_minor": 5
}
